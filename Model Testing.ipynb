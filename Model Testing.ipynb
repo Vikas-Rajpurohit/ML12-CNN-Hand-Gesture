{
 "cells": [
  {
   "cell_type": "code",
   "execution_count": 1,
   "id": "540554c1",
   "metadata": {},
   "outputs": [],
   "source": [
    "import tensorflow as tf\n",
    "import cv2\n",
    "import mediapipe as mp\n",
    "import numpy as np\n",
    "import os\n",
    "\n",
    "mp_hands = mp.solutions.hands\n",
    "hands = mp_hands.Hands()"
   ]
  },
  {
   "cell_type": "code",
   "execution_count": 2,
   "id": "93a06382",
   "metadata": {},
   "outputs": [],
   "source": [
    "imgs = []\n",
    "path = os.listdir('images')\n",
    "\n",
    "for idx,i in enumerate(path):\n",
    "    i = cv2.imread(os.path.join('images',path[idx]))\n",
    "    i = cv2.resize(i, (320,570))\n",
    "    imgs.append(i)\n",
    "    "
   ]
  },
  {
   "cell_type": "code",
   "execution_count": 3,
   "id": "157eae8c",
   "metadata": {},
   "outputs": [],
   "source": [
    "loaded_model = tf.keras.models.load_model(\"models/my_model.h5\")\n",
    "\n",
    "classes = [\"Aki Hayakawa\", \"Gojo Satoru\", \"Rock Lee\"]"
   ]
  },
  {
   "cell_type": "code",
   "execution_count": 4,
   "id": "991fdc1d",
   "metadata": {},
   "outputs": [],
   "source": [
    "cap = cv2.VideoCapture(0)\n",
    "ret, frame = cap.read()\n",
    "\n",
    "h,w,_ = frame.shape\n",
    "pad = 30\n",
    "\n",
    "while True:\n",
    "    ret, frame = cap.read()\n",
    "\n",
    "    frame_rgb = cv2.cvtColor(frame, cv2.COLOR_BGR2RGB)\n",
    "\n",
    "    results = hands.process(frame_rgb)\n",
    "    \n",
    "    k = cv2.waitKey(1)\n",
    "\n",
    "    if results.multi_hand_landmarks:\n",
    "        img = frame.copy()\n",
    "        # Loop through each detected hand\n",
    "        x_min, y_min, x_max, y_max = float('inf'), float('inf'), -float('inf'), -float('inf')\n",
    "        \n",
    "        for hand_landmarks in results.multi_hand_landmarks:\n",
    "            # Extract hand bounding box coordinates\n",
    "            for landmark in hand_landmarks.landmark:\n",
    "                x, y, _ = int(landmark.x * w), int(landmark.y * h), landmark.z\n",
    "                x_min = min(x_min, x)\n",
    "                y_min = min(y_min, y)\n",
    "                x_max = max(x_max, x)\n",
    "                y_max = max(y_max, y)\n",
    "\n",
    "        # Crop the hand from the frame\n",
    "        hand_crop = img[y_min-pad:y_max+pad,x_min-pad:x_max+pad]\n",
    "        \n",
    "        # Resize the frame\n",
    "        if 0 not in hand_crop.shape:\n",
    "    \n",
    "            resized_hand = cv2.resize(hand_crop, (250, 250))\n",
    "            image = np.expand_dims(resized_hand, axis=0)\n",
    "        \n",
    "            class_probabilities = loaded_model.predict(image, verbose=False)\n",
    "\n",
    "            predicted_class = np.argmax(class_probabilities)\n",
    "            \n",
    "            # Display the predicted class label on the frame\n",
    "            class_label = \"Character: \" + str(classes[predicted_class])\n",
    "            cv2.putText(frame, class_label, (20, 50), cv2.FONT_HERSHEY_SIMPLEX, 1, (0, 255, 0), 2)\n",
    "            \n",
    "#             cv2.imshow('Cropped Hand', resized_hand)\n",
    "            cv2.imshow('Character', imgs[predicted_class])    \n",
    "    else:\n",
    "        cv2.putText(frame, 'Call your Character', (20, 50), cv2.FONT_HERSHEY_SIMPLEX, 1, (0, 255, 0), 2)\n",
    "\n",
    "\n",
    "    # Display the resized frame\n",
    "    cv2.imshow('Hand Detection', frame)\n",
    "\n",
    "    # Exit the loop when 'q' is pressed\n",
    "    if k == 27:\n",
    "        break\n",
    "\n",
    "# Release video capture and close all OpenCV windows\n",
    "cap.release()\n",
    "cv2.destroyAllWindows()"
   ]
  },
  {
   "cell_type": "code",
   "execution_count": 5,
   "id": "7df6850b",
   "metadata": {},
   "outputs": [],
   "source": [
    "# Release video capture and close all OpenCV windows\n",
    "cap.release()\n",
    "cv2.destroyAllWindows()"
   ]
  },
  {
   "cell_type": "code",
   "execution_count": null,
   "id": "58f06726",
   "metadata": {},
   "outputs": [],
   "source": []
  },
  {
   "cell_type": "code",
   "execution_count": null,
   "id": "41dc1f57",
   "metadata": {},
   "outputs": [],
   "source": []
  },
  {
   "cell_type": "code",
   "execution_count": null,
   "id": "a05dea2a",
   "metadata": {},
   "outputs": [],
   "source": []
  }
 ],
 "metadata": {
  "kernelspec": {
   "display_name": "Python 3 (ipykernel)",
   "language": "python",
   "name": "python3"
  },
  "language_info": {
   "codemirror_mode": {
    "name": "ipython",
    "version": 3
   },
   "file_extension": ".py",
   "mimetype": "text/x-python",
   "name": "python",
   "nbconvert_exporter": "python",
   "pygments_lexer": "ipython3",
   "version": "3.10.4"
  }
 },
 "nbformat": 4,
 "nbformat_minor": 5
}
