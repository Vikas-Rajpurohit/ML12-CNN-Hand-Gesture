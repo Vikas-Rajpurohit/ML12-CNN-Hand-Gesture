{
 "cells": [
  {
   "cell_type": "code",
   "execution_count": 1,
   "id": "b6b53473",
   "metadata": {},
   "outputs": [],
   "source": [
    "import matplotlib.pyplot as plt\n",
    "import tensorflow as tf\n",
    "import os"
   ]
  },
  {
   "cell_type": "code",
   "execution_count": 2,
   "id": "f2ad2822",
   "metadata": {},
   "outputs": [],
   "source": [
    "cpus = tf.config.experimental.list_physical_devices('CPU')"
   ]
  },
  {
   "cell_type": "code",
   "execution_count": null,
   "id": "f8b6aef2",
   "metadata": {},
   "outputs": [],
   "source": [
    "len(cpus)"
   ]
  },
  {
   "cell_type": "markdown",
   "id": "09c664b8",
   "metadata": {},
   "source": [
    "## 2. Load Data"
   ]
  },
  {
   "cell_type": "code",
   "execution_count": 4,
   "id": "42331f2b",
   "metadata": {},
   "outputs": [
    {
     "name": "stdout",
     "output_type": "stream",
     "text": [
      "Found 72 images belonging to 3 classes.\n",
      "Found 18 images belonging to 3 classes.\n",
      "Found 90 images belonging to 3 classes.\n"
     ]
    }
   ],
   "source": [
    "from tensorflow.keras.preprocessing.image import ImageDataGenerator\n",
    "\n",
    "data_dir = 'utils/data'\n",
    "\n",
    "# Define data generators\n",
    "datagen = ImageDataGenerator(\n",
    "    rescale=1./255,  \n",
    "    validation_split=0.2 \n",
    ")\n",
    "\n",
    "image_size = (250, 250)\n",
    "batch_size = 10\n",
    "\n",
    "# Training data generator\n",
    "train_generator = datagen.flow_from_directory(\n",
    "    data_dir,\n",
    "    target_size=image_size,\n",
    "    batch_size=batch_size,\n",
    "    class_mode='categorical',  # For multiclass classification\n",
    "    subset='training'  # Use training subset\n",
    ")\n",
    "\n",
    "# Validation data generator\n",
    "validation_generator = datagen.flow_from_directory(\n",
    "    data_dir,\n",
    "    target_size=image_size,\n",
    "    batch_size=batch_size,\n",
    "    class_mode='categorical',\n",
    "    subset='validation'  # Use validation subset\n",
    ")\n",
    "\n",
    "\n",
    "test_datagen = ImageDataGenerator(rescale=1./255)\n",
    "test_generator = test_datagen.flow_from_directory(\n",
    "    data_dir,\n",
    "    target_size=image_size,\n",
    "    batch_size=batch_size,\n",
    "    class_mode='categorical',\n",
    "    shuffle=False  # Do not shuffle the test set\n",
    ")\n"
   ]
  },
  {
   "cell_type": "code",
   "execution_count": null,
   "id": "92e2cc13",
   "metadata": {},
   "outputs": [],
   "source": []
  },
  {
   "cell_type": "markdown",
   "id": "b8c440c3",
   "metadata": {},
   "source": [
    "## 4. Making Model"
   ]
  },
  {
   "cell_type": "code",
   "execution_count": 5,
   "id": "05d5b617",
   "metadata": {},
   "outputs": [],
   "source": [
    "from tensorflow.keras.models import Sequential\n",
    "from tensorflow.keras.layers import Conv2D, MaxPooling2D, Dense, Flatten, Dropout"
   ]
  },
  {
   "cell_type": "code",
   "execution_count": 6,
   "id": "f6390417",
   "metadata": {},
   "outputs": [],
   "source": [
    "model = Sequential()"
   ]
  },
  {
   "cell_type": "code",
   "execution_count": 7,
   "id": "03e95519",
   "metadata": {},
   "outputs": [],
   "source": [
    "model.add(Conv2D(16, (3, 3), padding='same', activation='relu', input_shape=(250, 250, 3)))\n",
    "model.add(MaxPooling2D())\n",
    "\n",
    "model.add(Conv2D(32, (3, 3), padding='same', activation='relu'))\n",
    "model.add(MaxPooling2D())\n",
    "\n",
    "model.add(Conv2D(64, (3, 3), padding='same', activation='relu'))\n",
    "model.add(MaxPooling2D())\n",
    "\n",
    "model.add(Flatten())\n",
    "\n",
    "model.add(Dense(256, activation='relu'))\n",
    "model.add(Dense(128, activation='relu'))\n",
    "model.add(Dense(3, activation='softmax'))"
   ]
  },
  {
   "cell_type": "code",
   "execution_count": 8,
   "id": "efe159a1",
   "metadata": {},
   "outputs": [],
   "source": [
    "model.compile('adam', loss='categorical_crossentropy', metrics=['accuracy'])"
   ]
  },
  {
   "cell_type": "code",
   "execution_count": 9,
   "id": "bf504132",
   "metadata": {},
   "outputs": [
    {
     "name": "stdout",
     "output_type": "stream",
     "text": [
      "Model: \"sequential\"\n",
      "_________________________________________________________________\n",
      " Layer (type)                Output Shape              Param #   \n",
      "=================================================================\n",
      " conv2d (Conv2D)             (None, 250, 250, 16)      448       \n",
      "                                                                 \n",
      " max_pooling2d (MaxPooling2D  (None, 125, 125, 16)     0         \n",
      " )                                                               \n",
      "                                                                 \n",
      " conv2d_1 (Conv2D)           (None, 125, 125, 32)      4640      \n",
      "                                                                 \n",
      " max_pooling2d_1 (MaxPooling  (None, 62, 62, 32)       0         \n",
      " 2D)                                                             \n",
      "                                                                 \n",
      " conv2d_2 (Conv2D)           (None, 62, 62, 64)        18496     \n",
      "                                                                 \n",
      " max_pooling2d_2 (MaxPooling  (None, 31, 31, 64)       0         \n",
      " 2D)                                                             \n",
      "                                                                 \n",
      " flatten (Flatten)           (None, 61504)             0         \n",
      "                                                                 \n",
      " dense (Dense)               (None, 256)               15745280  \n",
      "                                                                 \n",
      " dense_1 (Dense)             (None, 128)               32896     \n",
      "                                                                 \n",
      " dense_2 (Dense)             (None, 3)                 387       \n",
      "                                                                 \n",
      "=================================================================\n",
      "Total params: 15,802,147\n",
      "Trainable params: 15,802,147\n",
      "Non-trainable params: 0\n",
      "_________________________________________________________________\n"
     ]
    }
   ],
   "source": [
    "model.summary()"
   ]
  },
  {
   "cell_type": "code",
   "execution_count": null,
   "id": "bf3d68fc",
   "metadata": {},
   "outputs": [],
   "source": []
  },
  {
   "cell_type": "markdown",
   "id": "fe3b78a6",
   "metadata": {},
   "source": [
    "## 5. Training Model"
   ]
  },
  {
   "cell_type": "code",
   "execution_count": 10,
   "id": "0f3b7924",
   "metadata": {
    "collapsed": true
   },
   "outputs": [
    {
     "name": "stdout",
     "output_type": "stream",
     "text": [
      "Epoch 1/20\n",
      "8/8 [==============================] - 2s 252ms/step - loss: 2.0294 - accuracy: 0.3889 - val_loss: 1.0909 - val_accuracy: 0.3333\n",
      "Epoch 2/20\n",
      "8/8 [==============================] - 3s 379ms/step - loss: 1.0588 - accuracy: 0.4028 - val_loss: 1.0562 - val_accuracy: 0.3333\n",
      "Epoch 3/20\n",
      "8/8 [==============================] - 3s 424ms/step - loss: 1.0196 - accuracy: 0.5000 - val_loss: 0.8741 - val_accuracy: 0.6667\n",
      "Epoch 4/20\n",
      "8/8 [==============================] - 3s 414ms/step - loss: 0.9446 - accuracy: 0.5556 - val_loss: 0.8613 - val_accuracy: 0.5556\n",
      "Epoch 5/20\n",
      "8/8 [==============================] - 3s 403ms/step - loss: 0.7027 - accuracy: 0.6944 - val_loss: 0.5484 - val_accuracy: 0.8333\n",
      "Epoch 6/20\n",
      "8/8 [==============================] - 3s 405ms/step - loss: 0.4037 - accuracy: 0.8889 - val_loss: 0.4464 - val_accuracy: 0.7778\n",
      "Epoch 7/20\n",
      "8/8 [==============================] - 3s 414ms/step - loss: 0.2785 - accuracy: 0.8889 - val_loss: 0.2408 - val_accuracy: 0.9444\n",
      "Epoch 8/20\n",
      "8/8 [==============================] - 3s 388ms/step - loss: 0.1806 - accuracy: 0.9306 - val_loss: 0.1302 - val_accuracy: 0.9444\n",
      "Epoch 9/20\n",
      "8/8 [==============================] - 3s 420ms/step - loss: 0.1543 - accuracy: 0.9444 - val_loss: 0.0826 - val_accuracy: 1.0000\n",
      "Epoch 10/20\n",
      "8/8 [==============================] - 3s 455ms/step - loss: 0.0968 - accuracy: 0.9583 - val_loss: 0.1729 - val_accuracy: 0.9444\n",
      "Epoch 11/20\n",
      "8/8 [==============================] - 3s 403ms/step - loss: 0.0845 - accuracy: 0.9722 - val_loss: 0.0528 - val_accuracy: 1.0000\n",
      "Epoch 12/20\n",
      "8/8 [==============================] - 3s 410ms/step - loss: 0.0298 - accuracy: 1.0000 - val_loss: 0.0675 - val_accuracy: 0.9444\n",
      "Epoch 13/20\n",
      "8/8 [==============================] - 3s 407ms/step - loss: 0.0162 - accuracy: 0.9861 - val_loss: 0.0198 - val_accuracy: 1.0000\n",
      "Epoch 14/20\n",
      "8/8 [==============================] - 3s 405ms/step - loss: 0.0241 - accuracy: 1.0000 - val_loss: 0.1231 - val_accuracy: 0.9444\n",
      "Epoch 15/20\n",
      "8/8 [==============================] - 3s 404ms/step - loss: 0.0095 - accuracy: 1.0000 - val_loss: 0.0724 - val_accuracy: 0.9444\n",
      "Epoch 16/20\n",
      "8/8 [==============================] - 3s 404ms/step - loss: 0.0021 - accuracy: 1.0000 - val_loss: 0.0108 - val_accuracy: 1.0000\n",
      "Epoch 17/20\n",
      "8/8 [==============================] - 3s 401ms/step - loss: 0.0018 - accuracy: 1.0000 - val_loss: 0.0063 - val_accuracy: 1.0000\n",
      "Epoch 18/20\n",
      "8/8 [==============================] - 3s 410ms/step - loss: 8.2860e-04 - accuracy: 1.0000 - val_loss: 0.0214 - val_accuracy: 1.0000\n",
      "Epoch 19/20\n",
      "8/8 [==============================] - 3s 399ms/step - loss: 5.2375e-04 - accuracy: 1.0000 - val_loss: 0.0199 - val_accuracy: 1.0000\n",
      "Epoch 20/20\n",
      "8/8 [==============================] - 3s 397ms/step - loss: 3.0207e-04 - accuracy: 1.0000 - val_loss: 0.0114 - val_accuracy: 1.0000\n"
     ]
    }
   ],
   "source": [
    "epochs = 20\n",
    "\n",
    "history = model.fit(\n",
    "    train_generator,\n",
    "    validation_data=validation_generator,\n",
    "    epochs=epochs,\n",
    "    steps_per_epoch=len(train_generator),\n",
    "    validation_steps=len(validation_generator)\n",
    ")"
   ]
  },
  {
   "cell_type": "code",
   "execution_count": 11,
   "id": "64d647f9",
   "metadata": {},
   "outputs": [
    {
     "name": "stdout",
     "output_type": "stream",
     "text": [
      "9/9 [==============================] - 1s 107ms/step - loss: 0.0025 - accuracy: 1.0000\n",
      "Test loss: 0.0025\n",
      "Test accuracy: 1.0000\n"
     ]
    }
   ],
   "source": [
    "test_loss, test_accuracy = model.evaluate(test_generator, steps=len(test_generator))\n",
    "print(f\"Test loss: {test_loss:.4f}\")\n",
    "print(f\"Test accuracy: {test_accuracy:.4f}\")"
   ]
  },
  {
   "cell_type": "code",
   "execution_count": null,
   "id": "36a8724e",
   "metadata": {},
   "outputs": [],
   "source": []
  },
  {
   "cell_type": "markdown",
   "id": "636ed150",
   "metadata": {},
   "source": [
    "## 6. Plot Performance"
   ]
  },
  {
   "cell_type": "code",
   "execution_count": 13,
   "id": "0af78972",
   "metadata": {
    "collapsed": true
   },
   "outputs": [
    {
     "data": {
      "image/png": "[encoded data removed]",
      "text/plain": [
       "<Figure size 432x288 with 1 Axes>"
      ]
     },
     "metadata": {
      "needs_background": "light"
     },
     "output_type": "display_data"
    }
   ],
   "source": [
    "fig = plt.figure()\n",
    "plt.plot(history.history['loss'], color='teal', label='loss')\n",
    "plt.plot(history.history['val_loss'], color='orange', label='val_loss')\n",
    "fig.suptitle('Loss', fontsize=20)\n",
    "plt.legend(loc=\"upper left\")\n",
    "plt.show()"
   ]
  },
  {
   "cell_type": "code",
   "execution_count": 14,
   "id": "4f18ad8a",
   "metadata": {},
   "outputs": [
    {
     "data": {
      "image/png": "[encoded data removed]",
      "text/plain": [
       "<Figure size 432x288 with 1 Axes>"
      ]
     },
     "metadata": {
      "needs_background": "light"
     },
     "output_type": "display_data"
    }
   ],
   "source": [
    "fig = plt.figure()\n",
    "plt.plot(history.history['accuracy'], color='teal', label='accuracy')\n",
    "plt.plot(history.history['val_accuracy'], color='orange', label='val_accuracy')\n",
    "fig.suptitle('Accuracy', fontsize=20)\n",
    "plt.legend(loc=\"upper left\")\n",
    "plt.show()"
   ]
  },
  {
   "cell_type": "code",
   "execution_count": null,
   "id": "67e4249b",
   "metadata": {},
   "outputs": [],
   "source": []
  },
  {
   "cell_type": "code",
   "execution_count": 59,
   "id": "2fca321c",
   "metadata": {},
   "outputs": [
    {
     "name": "stdout",
     "output_type": "stream",
     "text": [
      "(1, 250, 250, 3)\n"
     ]
    }
   ],
   "source": [
    "image = test_generator[0][0][0]\n",
    "image = np.expand_dims(image, axis=0)\n",
    "\n",
    "print(image.shape)"
   ]
  },
  {
   "cell_type": "code",
   "execution_count": 60,
   "id": "154ab9c9",
   "metadata": {},
   "outputs": [
    {
     "name": "stdout",
     "output_type": "stream",
     "text": [
      "1/1 [==============================] - 0s 178ms/step\n"
     ]
    }
   ],
   "source": [
    "class_probabilities = model.predict(image)\n",
    "\n",
    "predicted_class = np.argmax(class_probabilities)"
   ]
  },
  {
   "cell_type": "code",
   "execution_count": 61,
   "id": "ac1692d0",
   "metadata": {},
   "outputs": [
    {
     "data": {
      "text/plain": [
       "'chainsaw'"
      ]
     },
     "execution_count": 61,
     "metadata": {},
     "output_type": "execute_result"
    }
   ],
   "source": [
    "class_labels[predicted_class]"
   ]
  },
  {
   "cell_type": "code",
   "execution_count": null,
   "id": "7b8c6fc1",
   "metadata": {},
   "outputs": [],
   "source": []
  },
  {
   "cell_type": "markdown",
   "id": "f11defd3",
   "metadata": {},
   "source": [
    "## 7. Saving and Loading Models"
   ]
  },
  {
   "cell_type": "code",
   "execution_count": 56,
   "id": "0c1b9e5e",
   "metadata": {},
   "outputs": [],
   "source": [
    "model.save(\"models/my_model.h5\")"
   ]
  },
  {
   "cell_type": "code",
   "execution_count": 58,
   "id": "c1e8832f",
   "metadata": {},
   "outputs": [],
   "source": [
    "loaded_model = tf.keras.models.load_model(\"models/my_model.h5\")"
   ]
  },
  {
   "cell_type": "code",
   "execution_count": null,
   "id": "18eb8dfd",
   "metadata": {},
   "outputs": [],
   "source": []
  }
 ],
 "metadata": {
  "kernelspec": {
   "display_name": "Python 3 (ipykernel)",
   "language": "python",
   "name": "python3"
  },
  "language_info": {
   "codemirror_mode": {
    "name": "ipython",
    "version": 3
   },
   "file_extension": ".py",
   "mimetype": "text/x-python",
   "name": "python",
   "nbconvert_exporter": "python",
   "pygments_lexer": "ipython3",
   "version": "3.10.4"
  }
 },
 "nbformat": 4,
 "nbformat_minor": 5
}
